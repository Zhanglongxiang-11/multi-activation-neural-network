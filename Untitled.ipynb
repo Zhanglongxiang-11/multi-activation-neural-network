{
 "cells": [
  {
   "cell_type": "code",
   "execution_count": 103,
   "id": "moral-quest",
   "metadata": {},
   "outputs": [],
   "source": [
    "import numpy as np\n",
    "import matplotlib.pyplot as plt"
   ]
  },
  {
   "cell_type": "code",
   "execution_count": 2,
   "id": "selected-encyclopedia",
   "metadata": {},
   "outputs": [],
   "source": [
    "def softmax(X):\n",
    "    Y_1 = np.exp(X)\n",
    "    Y_sum = np.sum(Y_1, axis=1, keepdims=True)\n",
    "    Y = Y_1 / Y_sum\n",
    "    return Y, X\n",
    "\n",
    "def sigmoid(X):\n",
    "    Y = 1/(1 + np.exp(-X))\n",
    "    return Y,X\n",
    "\n",
    "def relu(X):\n",
    "    Y = np.maximum(0,X)\n",
    "    return Y,X\n",
    "\n",
    "def tanh(X):\n",
    "    Y = (np.exp(X) - np.exp(-X))/(np.exp(X) + np.exp(-X))\n",
    "    return Y,X"
   ]
  },
  {
   "cell_type": "code",
   "execution_count": 100,
   "id": "opening-patch",
   "metadata": {},
   "outputs": [],
   "source": [
    "def back_sigmoid(dL, X):\n",
    "    Y, X = sigmoid(X)\n",
    "    dX = dL * Y * (1 - Y)\n",
    "    return dX\n",
    "\n",
    "def back_softmax(dL, X):\n",
    "    Y, X = softmax(X)\n",
    "    dX = dL * Y * (1 - Y)\n",
    "    return dX\n",
    "\n",
    "def back_relu(dL, X):\n",
    "    Y, X = relu(X)\n",
    "    p = (Y + abs(Y))\n",
    "    d = np.int64(p > 0)\n",
    "    dX = dL * d\n",
    "    return dX\n",
    "\n",
    "def back_tanh(dL, X):\n",
    "    Y, X = tanh(X)\n",
    "    dX = (1 - Y**2) * dL\n",
    "    return dX"
   ]
  },
  {
   "cell_type": "code",
   "execution_count": 101,
   "id": "million-enzyme",
   "metadata": {},
   "outputs": [
    {
     "name": "stdout",
     "output_type": "stream",
     "text": [
      "[[1 1 0]\n",
      " [2 0 2]\n",
      " [3 3 0]]\n"
     ]
    }
   ],
   "source": [
    "dL=np.array([[1,1,1],[2,2,2],[3,3,3]])\n",
    "x = np.array([[2,2,-3],[3,-3,3],[4,4,-4]])\n",
    "d = back_relu(dL, x)\n",
    "\n",
    "print(d)"
   ]
  },
  {
   "cell_type": "code",
   "execution_count": 59,
   "id": "based-synthesis",
   "metadata": {},
   "outputs": [],
   "source": [
    "def initialize_parameters_deep(layer_dims, activation_num=3):\n",
    "    \"\"\"\n",
    "    Arguments:\n",
    "    layer_dims -- python array (list) containing the dimensions of each layer in our network\n",
    "    \n",
    "    Returns:\n",
    "    parameters -- python dictionary containing your parameters \"W1\", \"b1\", ..., \"WL\", \"bL\":\n",
    "                    Wl -- weight matrix of shape (layer_dims[l], layer_dims[l-1])\n",
    "                    bl -- bias vector of shape (layer_dims[l], 1)\n",
    "    \"\"\"\n",
    "    \n",
    "    np.random.seed(3)\n",
    "    parameters = {}\n",
    "    L = len(layer_dims)            # number of layers in the network\n",
    "\n",
    "    for l in range(1, L-1):\n",
    "        parameters['W' + str(l)] = np.random.randn(layer_dims[l],layer_dims[l-1])*0.01\n",
    "        parameters['b' + str(l)] = np.zeros((layer_dims[l],1))\n",
    "        parameters['mu' + str(l)] = np.zeros((layer_dims[l],activation_num))\n",
    "        parameters['phi' + str(l)] = softmax(parameters['mu' + str(l)])[0]\n",
    "        \n",
    "        assert(parameters['W' + str(l)].shape == (layer_dims[l], layer_dims[l-1]))\n",
    "        assert(parameters['b' + str(l)].shape == (layer_dims[l], 1))\n",
    "        assert (parameters['mu' + str(l)].shape == (layer_dims[l],activation_num))\n",
    "    \n",
    "    parameters['W' + str(L-1)] = np.random.randn(layer_dims[L-1],layer_dims[L-2])*0.01\n",
    "    parameters['b' + str(L-1)] = np.zeros((layer_dims[L-1],1))\n",
    "        \n",
    "                \n",
    "    return parameters"
   ]
  },
  {
   "cell_type": "code",
   "execution_count": 68,
   "id": "descending-observer",
   "metadata": {},
   "outputs": [
    {
     "name": "stdout",
     "output_type": "stream",
     "text": [
      "{'W1': array([[ 0.01788628,  0.0043651 ,  0.00096497],\n",
      "       [-0.01863493, -0.00277388, -0.00354759],\n",
      "       [-0.00082741, -0.00627001, -0.00043818],\n",
      "       [-0.00477218, -0.01313865,  0.00884622],\n",
      "       [ 0.00881318,  0.01709573,  0.00050034]]), 'b1': array([[0.],\n",
      "       [0.],\n",
      "       [0.],\n",
      "       [0.],\n",
      "       [0.]]), 'mu1': array([[0., 0., 0.],\n",
      "       [0., 0., 0.],\n",
      "       [0., 0., 0.],\n",
      "       [0., 0., 0.],\n",
      "       [0., 0., 0.]]), 'phi1': array([[0.33333333, 0.33333333, 0.33333333],\n",
      "       [0.33333333, 0.33333333, 0.33333333],\n",
      "       [0.33333333, 0.33333333, 0.33333333],\n",
      "       [0.33333333, 0.33333333, 0.33333333],\n",
      "       [0.33333333, 0.33333333, 0.33333333]]), 'W2': array([[-0.00404677, -0.0054536 , -0.01546477,  0.00982367, -0.01101068]]), 'b2': array([[0.]])}\n",
      "[[0.24340108 0.22247347 0.25855134 0.28261095]\n",
      " [0.11362999 0.12817381 0.10775743 0.09225187]\n",
      " [0.16068755 0.15633608 0.15809612 0.15983603]\n",
      " [0.19861988 0.17944406 0.17192652 0.18125607]\n",
      " [0.21588179 0.22789945 0.2345089  0.23527911]]\n",
      "[[0.49887113 0.49880912 0.49875699 0.49876786]]\n",
      "()\n",
      "0.6931136219782339\n"
     ]
    }
   ],
   "source": [
    "layer_dims = [3,5,1]\n",
    "parameter = initialize_parameters_deep(layer_dims, activation_num=3)\n",
    "print(parameter)\n",
    "A1 = linear_activation_forward(X, parameter['W1'], parameter['b1'], parameter['mu1'])[0]\n",
    "print(A1)\n",
    "A2 = output_layer(A1, parameter['W2'], parameter['b2'])[0]\n",
    "print(A2)\n",
    "cost = compute_cost(A2,Y)\n",
    "print(cost)\n",
    "\n"
   ]
  },
  {
   "cell_type": "code",
   "execution_count": 6,
   "id": "thrown-beijing",
   "metadata": {},
   "outputs": [],
   "source": [
    "def linear_forward(A, W, b):\n",
    "   \n",
    "    ### START CODE HERE ### (≈ 1 line of code)\n",
    "    Z = np.dot(W, A) + b\n",
    "    ### END CODE HERE ###\n",
    "    \n",
    "    \n",
    "\n",
    "    assert (Z.shape == (W.shape[0], A.shape[1]))\n",
    "    cache = (A, W, b)\n",
    "\n",
    "    return Z, cache"
   ]
  },
  {
   "cell_type": "code",
   "execution_count": 7,
   "id": "assisted-makeup",
   "metadata": {},
   "outputs": [
    {
     "name": "stdout",
     "output_type": "stream",
     "text": [
      "[[65 62 62 69]\n",
      " [45 46 45 48]]\n",
      "(array([[5, 3, 6, 8],\n",
      "       [1, 3, 2, 1],\n",
      "       [9, 8, 7, 8]]), array([[3, 4, 5],\n",
      "       [2, 4, 3]]), array([[1],\n",
      "       [4]]))\n"
     ]
    }
   ],
   "source": [
    "X = np.array([[5,3,6,8],[1,3,2,1],[9,8,7,8]])\n",
    "W1 = np.array([[3,4,5],[2,4,3]])\n",
    "b1 = np.array([[1],[4]])\n",
    "print(linear_forward(X,W1,b1)[0])\n",
    "print(linear_forward(X,W1,b1)[1])"
   ]
  },
  {
   "cell_type": "code",
   "execution_count": 8,
   "id": "independent-start",
   "metadata": {},
   "outputs": [],
   "source": [
    "def linear_activation_forward(A_prev, W, b, mu):\n",
    "    \n",
    "\n",
    "    Z, linear_cache = linear_forward(A_prev, W, b)\n",
    "    A_1, activation_cache_1 = relu(Z)\n",
    "    A_2, activation_cache_2 = sigmoid(Z)\n",
    "    A_3, activation_cache_3 = tanh(Z)\n",
    "    phi, mu_cache = softmax(mu)\n",
    "    A = A_1 * phi[:,0].reshape((-1,1)) + A_2 * phi[:,1].reshape((-1,1)) + A_3 * phi[:,2].reshape((-1,1))\n",
    "\n",
    "    assert (A.shape == (W.shape[0], A_prev.shape[1]))\n",
    "    cache = (linear_cache, activation_cache_1, mu_cache, phi)\n",
    "\n",
    "    return A, cache"
   ]
  },
  {
   "cell_type": "code",
   "execution_count": 9,
   "id": "dedicated-hebrew",
   "metadata": {},
   "outputs": [
    {
     "name": "stdout",
     "output_type": "stream",
     "text": [
      "[[16.66262215 15.92843673 15.92843673 17.64153603]\n",
      " [11.76805273 12.0127812  11.76805273 12.50223814]]\n",
      "((array([[5, 3, 6, 8],\n",
      "       [1, 3, 2, 1],\n",
      "       [9, 8, 7, 8]]), array([[3, 4, 5],\n",
      "       [2, 4, 3]]), array([[1],\n",
      "       [4]])), array([[65, 62, 62, 69],\n",
      "       [45, 46, 45, 48]]), array([[4, 3, 5],\n",
      "       [2, 3, 1]]), array([[0.24472847, 0.09003057, 0.66524096],\n",
      "       [0.24472847, 0.66524096, 0.09003057]]))\n",
      "(2, 4)\n"
     ]
    }
   ],
   "source": [
    "X = np.array([[5,3,6,8],[1,3,2,1],[9,8,7,8]])\n",
    "W1 = np.array([[3,4,5],[2,4,3]])\n",
    "b1 = np.array([[1],[4]])\n",
    "mu1 = np.array([[4,3,5],[2,3,1]])\n",
    "\n",
    "A1, cache = linear_activation_forward(X,W1,b1,mu1)\n",
    "\n",
    "print(A1)\n",
    "print(cache)\n",
    "print(A1.shape)\n"
   ]
  },
  {
   "cell_type": "code",
   "execution_count": 10,
   "id": "lesbian-nation",
   "metadata": {},
   "outputs": [],
   "source": [
    "def output_layer(A_prev, W, b):\n",
    "   \n",
    "\n",
    "\n",
    "    Z, linear_cache = linear_forward(A_prev, W, b)\n",
    "    A, activation_cache = sigmoid(Z)\n",
    "  \n",
    "\n",
    "\n",
    "    assert (A.shape == (W.shape[0], A_prev.shape[1]))\n",
    "    cache = (linear_cache, activation_cache)\n",
    "\n",
    "    return A, cache"
   ]
  },
  {
   "cell_type": "code",
   "execution_count": 11,
   "id": "oriented-empty",
   "metadata": {},
   "outputs": [
    {
     "name": "stdout",
     "output_type": "stream",
     "text": [
      "[[16.66262215 15.92843673 15.92843673 17.64153603]\n",
      " [11.76805273 12.0127812  11.76805273 12.50223814]]\n",
      "[[0.68652924 0.67105742 0.67051698 0.7087201 ]]\n"
     ]
    }
   ],
   "source": [
    "W2 = np.array([[0.1,0.01]])\n",
    "\n",
    "print(A1)\n",
    "\n",
    "b2 = -1\n",
    "print(output_layer(A1,W2,b2)[0])\n"
   ]
  },
  {
   "cell_type": "code",
   "execution_count": 75,
   "id": "limited-chester",
   "metadata": {},
   "outputs": [],
   "source": [
    "def L_model_forward(X, parameters):\n",
    "    \n",
    "\n",
    "    caches = []\n",
    "    A = X\n",
    "    L = len(parameters) // 4 + 1  # number of layers in the neural network\n",
    "\n",
    "    # Implement [LINEAR -> RELU]*(L-1). Add \"cache\" to the \"caches\" list.\n",
    "    for l in range(1, L):\n",
    "        A_prev = A\n",
    "        ### START CODE HERE ### (≈ 2 lines of code)\n",
    "        A, cache = linear_activation_forward(A_prev, parameters['W' + str(l)], parameters['b' + str(l)],\n",
    "                                             parameters['mu' + str(l)])\n",
    "        caches.append(cache)\n",
    "        ### END CODE HERE ###\n",
    "\n",
    "    # Implement LINEAR -> SIGMOID. Add \"cache\" to the \"caches\" list.\n",
    "    ### START CODE HERE ### (≈ 2 lines of code)\n",
    "    AL, cache = output_layer(A, parameters['W' + str(L)], parameters['b' + str(L)])\n",
    "    caches.append(cache)\n",
    "    ### END CODE HERE ###\n",
    "\n",
    "    #assert (AL.shape == (1, X.shape[1]))\n",
    "\n",
    "    return AL, caches"
   ]
  },
  {
   "cell_type": "code",
   "execution_count": 76,
   "id": "running-arcade",
   "metadata": {},
   "outputs": [
    {
     "name": "stdout",
     "output_type": "stream",
     "text": [
      "[[0.49887113 0.49880912 0.49875699 0.49876786]]\n"
     ]
    }
   ],
   "source": [
    "AL, caches = L_model_forward(X, parameter)\n",
    "print(AL)"
   ]
  },
  {
   "cell_type": "code",
   "execution_count": 13,
   "id": "married-rebecca",
   "metadata": {},
   "outputs": [
    {
     "name": "stdout",
     "output_type": "stream",
     "text": [
      "[((array([[5, 3, 6, 8],\n",
      "       [1, 3, 2, 1],\n",
      "       [9, 8, 7, 8]]), array([[3, 4, 5],\n",
      "       [2, 4, 3]]), array([[1],\n",
      "       [4]])), array([[65, 62, 62, 69],\n",
      "       [45, 46, 45, 48]]), array([[4, 3, 5],\n",
      "       [2, 3, 1]]), array([[0.24472847, 0.09003057, 0.66524096],\n",
      "       [0.24472847, 0.66524096, 0.09003057]])), ((array([[16.66262215, 15.92843673, 15.92843673, 17.64153603],\n",
      "       [11.76805273, 12.0127812 , 11.76805273, 12.50223814]]), array([[0.1 , 0.01]]), array([[-1]])), array([[0.78394274, 0.71297149, 0.7105242 , 0.88917598]]))]\n"
     ]
    }
   ],
   "source": [
    "X = np.array([[5,3,6,8],[1,3,2,1],[9,8,7,8]])\n",
    "W1 = np.array([[3,4,5],[2,4,3]])\n",
    "b1 = np.array([[1],[4]])\n",
    "mu1 = np.array([[4,3,5],[2,3,1]])\n",
    "phi1 = softmax(mu1)[0]\n",
    "W2 = np.array([[0.1,0.01]])\n",
    "b2 = np.array([[-1]])\n",
    "mu2 = 0\n",
    "phi2 = 0\n",
    "parameters = {'W1':W1,'b1':b1,'mu1':mu1,'phi1':phi1,'W2':W2,'b2':b2,'mu2':mu2,'phi2':phi2}\n",
    "\n",
    "\n",
    "y_hat = L_model_forward(X, parameters)[0]\n",
    "total_cache = L_model_forward(X, parameters)[1]\n",
    "print(total_cache)"
   ]
  },
  {
   "cell_type": "code",
   "execution_count": 115,
   "id": "rural-trinity",
   "metadata": {},
   "outputs": [],
   "source": [
    "def compute_cost(AL, Y):\n",
    "   \n",
    "\n",
    "    m = Y.shape[1]\n",
    "    # Compute loss from aL and y.\n",
    "    ### START CODE HERE ### (≈ 1 lines of code)\n",
    "    cost = -1 / m * np.sum(Y * np.log(AL) + (1 - Y) * np.log(1 - AL), axis=1, keepdims=True)\n",
    "    ### END CODE HERE ###\n",
    "    \n",
    "    cost = np.squeeze(cost)\n",
    "    # To make sure your cost's shape is what we expect (e.g. this turns [[17]] into 17).\n",
    "    assert (cost.shape == ())\n",
    "\n",
    "    return cost"
   ]
  },
  {
   "cell_type": "code",
   "execution_count": 56,
   "id": "dedicated-citizenship",
   "metadata": {},
   "outputs": [
    {
     "name": "stdout",
     "output_type": "stream",
     "text": [
      "()\n",
      "0.7356258984305145\n"
     ]
    }
   ],
   "source": [
    "Y = np.array([[1,0,0,1]])\n",
    "cost = compute_cost(y_hat,Y)\n",
    "print(cost)"
   ]
  },
  {
   "cell_type": "code",
   "execution_count": 107,
   "id": "detailed-emphasis",
   "metadata": {},
   "outputs": [],
   "source": [
    "def linear_backward(dZ, cache):\n",
    " \n",
    "    A_prev, W, b = cache\n",
    "    m = A_prev.shape[1]\n",
    "    ### START CODE HERE ### (≈ 3 lines of code)\n",
    "    dW = 1 / m * np.dot(dZ, A_prev.T)\n",
    "    db = 1 / m * np.sum(dZ, axis=1, keepdims=True)\n",
    "    dA_prev = np.dot(W.T, dZ)\n",
    "    ### END CODE HERE ###\n",
    "\n",
    "    assert (dA_prev.shape == A_prev.shape)\n",
    "    assert (dW.shape == W.shape)\n",
    "    assert (db.shape == b.shape)\n",
    "\n",
    "    return dA_prev, dW, db"
   ]
  },
  {
   "cell_type": "code",
   "execution_count": 108,
   "id": "undefined-wealth",
   "metadata": {},
   "outputs": [],
   "source": [
    "def first_backward(dA, cache):\n",
    "    \n",
    "    linear_cache, activation_cache = cache\n",
    "    \n",
    "    dZ = back_sigmoid(dA, activation_cache)\n",
    "    dA_prev, dW, db = linear_backward(dZ, linear_cache)\n",
    "    \n",
    "    return dA_prev, dW, db"
   ]
  },
  {
   "cell_type": "code",
   "execution_count": 19,
   "id": "magnetic-preview",
   "metadata": {},
   "outputs": [
    {
     "name": "stdout",
     "output_type": "stream",
     "text": [
      "[[-1.45660219  3.04004422  3.03505776 -1.41099428]]\n"
     ]
    }
   ],
   "source": [
    "dA2 = - (np.divide(Y, y_hat) - np.divide(1 - Y, 1 - y_hat))\n",
    "print(dA2)"
   ]
  },
  {
   "cell_type": "code",
   "execution_count": 20,
   "id": "affected-radical",
   "metadata": {},
   "outputs": [
    {
     "name": "stdout",
     "output_type": "stream",
     "text": [
      "((array([[16.66262215, 15.92843673, 15.92843673, 17.64153603],\n",
      "       [11.76805273, 12.0127812 , 11.76805273, 12.50223814]]), array([[0.1 , 0.01]]), array([[-1]])), array([[0.78394274, 0.71297149, 0.7105242 , 0.88917598]]))\n",
      "[[-0.03134708  0.06710574  0.0670517  -0.02912799]\n",
      " [-0.00313471  0.00671057  0.00670517 -0.0029128 ]]\n",
      "[[2.75182829 2.15533849]]\n",
      "[[0.18420593]]\n"
     ]
    }
   ],
   "source": [
    "cache = total_cache[1]\n",
    "print(cache)\n",
    "\n",
    "dA_1, dw, db = first_backward(dA2, cache)\n",
    "print(dA_1)\n",
    "print(dw)\n",
    "print(db)"
   ]
  },
  {
   "cell_type": "code",
   "execution_count": 109,
   "id": "round-proof",
   "metadata": {},
   "outputs": [],
   "source": [
    "def linear_activation_backward(dA, cache):\n",
    "    \"\"\"\n",
    "    Implement the backward propagation for the LINEAR->ACTIVATION layer.\n",
    "    \n",
    "    Arguments:\n",
    "    dA -- post-activation gradient for current layer l \n",
    "    cache -- tuple of values (linear_cache, activation_cache) we store for computing backward propagation efficiently\n",
    "    activation -- the activation to be used in this layer, stored as a text string: \"sigmoid\" or \"relu\"\n",
    "    \n",
    "    Returns:\n",
    "    dA_prev -- Gradient of the cost with respect to the activation (of the previous layer l-1), same shape as A_prev\n",
    "    dW -- Gradient of the cost with respect to W (current layer l), same shape as W\n",
    "    db -- Gradient of the cost with respect to b (current layer l), same shape as b\n",
    "    \"\"\"\n",
    "    linear_cache, activation_cache, mu, phi = cache\n",
    "    m = dA.shape[1]\n",
    "    \n",
    "    A_1 = relu(activation_cache)[0]\n",
    "    A_2 = sigmoid(activation_cache)[0]\n",
    "    A_3 = tanh(activation_cache)[0]\n",
    "    \n",
    "    dphi = np.zeros(phi.shape)\n",
    "    dphi[:,0] = 1 / m * np.sum(A_1 * dA, axis=1, keepdims=True).reshape((1,-1))\n",
    "    dphi[:,1] = 1 / m * np.sum(A_2 * dA, axis=1, keepdims=True).reshape((1,-1))\n",
    "    dphi[:,2] = 1 / m * np.sum(A_3 * dA, axis=1, keepdims=True).reshape((1,-1))\n",
    "    \n",
    "    dmu = back_softmax(dphi, mu)\n",
    "    \n",
    "    dA_1 = dA * phi[:,0].reshape((-1,1))\n",
    "    dA_2 = dA * phi[:,1].reshape((-1,1))\n",
    "    dA_3 = dA * phi[:,2].reshape((-1,1))\n",
    "    \n",
    "    dZ = 1 / 3 * (back_relu(dA_1, activation_cache) + back_sigmoid(dA_2, activation_cache) + back_tanh(dA_3, activation_cache))\n",
    "    dA_prev, dW, db = linear_backward(dZ, linear_cache)\n",
    "    \n",
    "    \n",
    "    return dA_prev, dW, db, dmu"
   ]
  },
  {
   "cell_type": "code",
   "execution_count": 22,
   "id": "written-surveillance",
   "metadata": {},
   "outputs": [
    {
     "name": "stdout",
     "output_type": "stream",
     "text": [
      "[[64.5  1.   1. ]\n",
      " [46.   1.   1. ]]\n"
     ]
    },
    {
     "data": {
      "text/plain": [
       "'\\nprint(\"A_1:\",A_1)\\nprint(\\'A_2:\\',A_2)\\nprint(\\'A_3:\\',A_3)\\nprint(\\'mu:\\',mu)\\nprint(\\'phi:\\',phi)\\nprint(np.array([A_1, A_2, A_3]))\\nprint(phi[0])\\nprint(A_1 * phi[:,0].reshape((-1,1)))\\n'"
      ]
     },
     "execution_count": 22,
     "metadata": {},
     "output_type": "execute_result"
    }
   ],
   "source": [
    "cache = L_model_forward(X, parameters)[1][0]\n",
    "linear_cache, activation_cache, mu, phi = cache\n",
    "    \n",
    "A_1 = relu(activation_cache)[0]\n",
    "A_2 = sigmoid(activation_cache)[0]\n",
    "A_3 = tanh(activation_cache)[0]\n",
    "\n",
    "dphi = np.zeros(phi.shape)\n",
    "dphi[:,0] = 1 / 4 * np.sum(A_1, axis=1, keepdims=True).reshape((1,-1))\n",
    "dphi[:,1] = 1 / 4 * np.sum(A_2, axis=1, keepdims=True).reshape((1,-1))\n",
    "dphi[:,2] = 1 / 4 * np.sum(A_3, axis=1, keepdims=True).reshape((1,-1))\n",
    "\n",
    "print(dphi)\n",
    "dmu = back_softmax(dphi, mu)\n",
    "#dphi = dA * np.array([A_1, A_2, A_3])\n",
    "#dA_1 = dA * phi[0]\n",
    "#dA_2 = dA * phi[1]\n",
    "#dA_3 = dA * phi[2]\n",
    "'''\n",
    "print(\"A_1:\",A_1)\n",
    "print('A_2:',A_2)\n",
    "print('A_3:',A_3)\n",
    "print('mu:',mu)\n",
    "print('phi:',phi)\n",
    "print(np.array([A_1, A_2, A_3]))\n",
    "print(phi[0])\n",
    "print(A_1 * phi[:,0].reshape((-1,1)))\n",
    "'''"
   ]
  },
  {
   "cell_type": "code",
   "execution_count": 110,
   "id": "nasty-flight",
   "metadata": {},
   "outputs": [],
   "source": [
    "def L_model_backward(AL, Y, caches):\n",
    "    \n",
    "    grads = {}\n",
    "    L = len(caches) # the number of layers\n",
    "    m = AL.shape[1]\n",
    "    Y = Y.reshape(AL.shape) # after this line, Y is the same shape as AL\n",
    "\n",
    "    # Initializing the backpropagation\n",
    "    ### START CODE HERE ### (1 line of code)\n",
    "    dAL = - (np.divide(Y, AL) - np.divide(1 - Y, 1 - AL))\n",
    "    ### END CODE HERE ###\n",
    "    \n",
    "    # Lth layer (SIGMOID -> LINEAR) gradients. Inputs: \"AL, Y, caches\". Outputs: \"grads[\"dAL\"], grads[\"dWL\"], grads[\"dbL\"]\n",
    "    ### START CODE HERE ### (approx. 2 lines)\n",
    "    current_cache = caches[L-1]\n",
    "    grads[\"dA\" + str(L)], grads[\"dW\" + str(L)], grads[\"db\" + str(L)] = first_backward(dAL, current_cache)\n",
    "    ### END CODE HERE ###\n",
    "      \n",
    "    for l in reversed(range(L - 1)):\n",
    "        # lth layer: (RELU -> LINEAR) gradients.\n",
    "        # Inputs: \"grads[\"dA\" + str(l + 2)], caches\". Outputs: \"grads[\"dA\" + str(l + 1)] , grads[\"dW\" + str(l + 1)] , grads[\"db\" + str(l + 1)] \n",
    "        ### START CODE HERE ### (approx. 5 lines)\n",
    "        current_cache = caches[l]\n",
    "        dA_prev_temp, dW_temp, db_temp,dmu_temp = linear_activation_backward(grads[\"dA\" + str(l+2)], current_cache)\n",
    "        grads[\"dA\" + str(l + 1)] = dA_prev_temp\n",
    "        grads[\"dW\" + str(l + 1)] = dW_temp\n",
    "        grads[\"db\" + str(l + 1)] = db_temp\n",
    "        grads['dmu' + str(l + 1)] = dmu_temp\n",
    "        ### END CODE HERE ###\n",
    "\n",
    "\n",
    "    return grads"
   ]
  },
  {
   "cell_type": "code",
   "execution_count": 123,
   "id": "confidential-grass",
   "metadata": {},
   "outputs": [],
   "source": [
    "def update_parameters(parameters, grads, learning_rate):\n",
    "    \n",
    "    L = len(parameters) // 4 + 1 # number of layers in the neural network\n",
    "\n",
    "    # Update rule for each parameter. Use a for loop.\n",
    "    ### START CODE HERE ### (≈ 3 lines of code)\n",
    "    for l in range(L-1):\n",
    "        parameters[\"W\" + str(l+1)] =  parameters[\"W\" + str(l+1)] - learning_rate * grads[\"dW\" + str(l + 1)]\n",
    "        parameters[\"b\" + str(l+1)] = parameters[\"b\" + str(l+1)] - learning_rate * grads[\"db\" + str(l + 1)]\n",
    "        parameters[\"mu\" + str(l+1)] = parameters[\"mu\" + str(l+1)] - learning_rate * grads[\"dmu\" + str(l + 1)]\n",
    "        parameters[\"phi\" + str(l+1)] = softmax(parameters[\"mu\" + str(l+1)])[0]\n",
    "        \n",
    "    parameters[\"W\" + str(L)] =  parameters[\"W\" + str(L)] - learning_rate * grads[\"dW\" + str(L)]\n",
    "    parameters[\"b\" + str(L)] = parameters[\"b\" + str(L)] - learning_rate * grads[\"db\" + str(L)]\n",
    "    ### END CODE HERE ###\n",
    "        \n",
    "    return parameters"
   ]
  },
  {
   "cell_type": "code",
   "execution_count": 112,
   "id": "indie-wrist",
   "metadata": {},
   "outputs": [],
   "source": [
    "def L_layer_model(X, Y, layers_dims, learning_rate = 0.0075, num_iterations = 3000, print_cost=False):#lr was 0.009\n",
    "\n",
    "    np.random.seed(1)\n",
    "    costs = []                         # keep track of cost\n",
    "    \n",
    "    # Parameters initialization.\n",
    "    ### START CODE HERE ###\n",
    "    parameters = initialize_parameters_deep(layers_dims)\n",
    "    ### END CODE HERE ###\n",
    "    \n",
    "    # Loop (gradient descent)\n",
    "    for i in range(0, num_iterations):\n",
    "\n",
    "        # Forward propagation: [LINEAR -> RELU]*(L-1) -> LINEAR -> SIGMOID.\n",
    "        ### START CODE HERE ### (≈ 1 line of code)\n",
    "        AL, caches = L_model_forward(X, parameters)\n",
    "        ### END CODE HERE ###\n",
    "        \n",
    "        # Compute cost.\n",
    "        ### START CODE HERE ### (≈ 1 line of code)\n",
    "        cost = compute_cost(AL, Y)\n",
    "        ### END CODE HERE ###\n",
    "    \n",
    "        # Backward propagation.\n",
    "        ### START CODE HERE ### (≈ 1 line of code)\n",
    "        grads = L_model_backward(AL, Y, caches)\n",
    "        ### END CODE HERE ###\n",
    " \n",
    "        # Update parameters.\n",
    "        ### START CODE HERE ### (≈ 1 line of code)\n",
    "        parameters = update_parameters(parameters, grads, learning_rate)\n",
    "        ### END CODE HERE ###\n",
    "                \n",
    "        # Print the cost every 100 training example\n",
    "        if print_cost and i % 100 == 0:\n",
    "            print (\"Cost after iteration %i: %f\" %(i, cost))\n",
    "        if print_cost and i % 100 == 0:\n",
    "            costs.append(cost)\n",
    "            \n",
    "    # plot the cost\n",
    "    plt.plot(np.squeeze(costs))\n",
    "    plt.ylabel('cost')\n",
    "    plt.xlabel('iterations (per tens)')\n",
    "    plt.title(\"Learning rate =\" + str(learning_rate))\n",
    "    plt.show()\n",
    "    \n",
    "    return parameters"
   ]
  },
  {
   "cell_type": "code",
   "execution_count": 124,
   "id": "fabulous-sunday",
   "metadata": {},
   "outputs": [
    {
     "name": "stdout",
     "output_type": "stream",
     "text": [
      "Cost after iteration 0: 0.693114\n",
      "Cost after iteration 100: 0.680856\n",
      "Cost after iteration 200: 0.497173\n",
      "Cost after iteration 300: 0.191859\n",
      "Cost after iteration 400: 0.074378\n",
      "Cost after iteration 500: 0.040018\n",
      "Cost after iteration 600: 0.025787\n",
      "Cost after iteration 700: 0.018259\n",
      "Cost after iteration 800: 0.013903\n",
      "Cost after iteration 900: 0.011037\n",
      "Cost after iteration 1000: 0.009049\n",
      "Cost after iteration 1100: 0.007623\n",
      "Cost after iteration 1200: 0.006527\n",
      "Cost after iteration 1300: 0.005691\n",
      "Cost after iteration 1400: 0.005027\n",
      "Cost after iteration 1500: 0.004480\n",
      "Cost after iteration 1600: 0.004034\n",
      "Cost after iteration 1700: 0.003660\n",
      "Cost after iteration 1800: 0.003342\n",
      "Cost after iteration 1900: 0.003071\n",
      "Cost after iteration 2000: 0.002836\n",
      "Cost after iteration 2100: 0.002632\n",
      "Cost after iteration 2200: 0.002454\n",
      "Cost after iteration 2300: 0.002293\n",
      "Cost after iteration 2400: 0.002151\n"
     ]
    },
    {
     "data": {
      "image/png": "[encoded data removed]",
      "text/plain": [
       "<Figure size 432x288 with 1 Axes>"
      ]
     },
     "metadata": {
      "needs_background": "light"
     },
     "output_type": "display_data"
    }
   ],
   "source": [
    "X = np.array([[5,3,6,8],[1,3,2,1],[9,8,7,8]])\n",
    "Y = np.array([[1,0,0,1]])\n",
    "layer_dims = [3,5,1]\n",
    "\n",
    "parameters = L_layer_model(X, Y, layer_dims, learning_rate = 0.1, num_iterations = 2500, print_cost = True)"
   ]
  },
  {
   "cell_type": "code",
   "execution_count": 125,
   "id": "fewer-ecology",
   "metadata": {},
   "outputs": [
    {
     "name": "stdout",
     "output_type": "stream",
     "text": [
      "{'W1': array([[ 0.07015499, -1.10253819,  0.27013753],\n",
      "       [-0.01317266,  0.63310492, -0.0707708 ],\n",
      "       [ 0.01334742,  0.3025798 ,  0.00373733],\n",
      "       [ 0.05195934, -1.55313614,  0.42084965],\n",
      "       [-0.0512721 ,  1.48307555, -0.15414777]]), 'b1': array([[-0.1094455 ],\n",
      "       [ 0.0696564 ],\n",
      "       [ 0.03702329],\n",
      "       [-0.15182629],\n",
      "       [ 0.15889575]]), 'mu1': array([[0.82902401, 0.10854565, 0.60150856],\n",
      "       [0.20665696, 0.08464309, 0.19248039],\n",
      "       [0.04423145, 0.02859672, 0.04473525],\n",
      "       [1.68280727, 0.20856724, 1.06707254],\n",
      "       [1.43025977, 0.314197  , 0.90497369]]), 'phi1': array([[0.43801447, 0.21310257, 0.34888296],\n",
      "       [0.34830347, 0.30829597, 0.34340056],\n",
      "       [0.33500941, 0.32981236, 0.33517823],\n",
      "       [0.56522835, 0.12941053, 0.30536112],\n",
      "       [0.52111747, 0.17070087, 0.30818166]]), 'W2': array([[ 2.20025288, -1.20825876, -0.59448072,  3.14552401, -2.92435126]]), 'b2': array([[-0.6315523]])}\n"
     ]
    }
   ],
   "source": [
    "print(parameters)"
   ]
  },
  {
   "cell_type": "code",
   "execution_count": 122,
   "id": "neural-payment",
   "metadata": {},
   "outputs": [
    {
     "name": "stdout",
     "output_type": "stream",
     "text": [
      "(array([[0.43801447, 0.21310257, 0.34888296],\n",
      "       [0.34830347, 0.30829597, 0.34340056],\n",
      "       [0.33500941, 0.32981236, 0.33517823],\n",
      "       [0.56522835, 0.12941053, 0.30536112],\n",
      "       [0.52111747, 0.17070087, 0.30818166]]), array([[0.82902401, 0.10854565, 0.60150856],\n",
      "       [0.20665696, 0.08464309, 0.19248039],\n",
      "       [0.04423145, 0.02859672, 0.04473525],\n",
      "       [1.68280727, 0.20856724, 1.06707254],\n",
      "       [1.43025977, 0.314197  , 0.90497369]]))\n"
     ]
    }
   ],
   "source": [
    "print(softmax(parameters['mu1']))"
   ]
  }
 ],
 "metadata": {
  "kernelspec": {
   "display_name": "Python 3",
   "language": "python",
   "name": "python3"
  },
  "language_info": {
   "codemirror_mode": {
    "name": "ipython",
    "version": 3
   },
   "file_extension": ".py",
   "mimetype": "text/x-python",
   "name": "python",
   "nbconvert_exporter": "python",
   "pygments_lexer": "ipython3",
   "version": "3.8.5"
  }
 },
 "nbformat": 4,
 "nbformat_minor": 5
}
